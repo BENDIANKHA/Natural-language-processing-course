{
 "cells": [
  {
   "cell_type": "code",
   "execution_count": 1,
   "metadata": {},
   "outputs": [],
   "source": [
    "# Install gensim - pip install gensim\n",
    "import nltk\n",
    "import urllib\n",
    "import bs4 as bs\n",
    "import re\n",
    "\n",
    "from gensim.models import Word2Vec\n",
    "\n",
    "import matplotlib.pyplot as plt\n",
    "import matplotlib.patches as mpatches\n",
    "import seaborn as sns\n",
    "\n",
    "import pandas as pd\n",
    "import numpy as np"
   ]
  },
  {
   "cell_type": "code",
   "execution_count": 2,
   "metadata": {},
   "outputs": [],
   "source": [
    "# link to the wikipedia of the president Senegal\n",
    "raw_html = urllib.request.urlopen('https://en.wikipedia.org/wiki/Macky_Sall')  \n",
    "raw_html = raw_html.read()\n",
    "bs_html = bs.BeautifulSoup(raw_html,'lxml')\n",
    "\n",
    "# Fetching the data\n",
    "text = \"\"\n",
    "for paragraph in bs_html.find_all('p'):\n",
    "    text += paragraph.text"
   ]
  },
  {
   "cell_type": "code",
   "execution_count": 3,
   "metadata": {},
   "outputs": [
    {
     "name": "stdout",
     "output_type": "stream",
     "text": [
      "[\"Sall's\", \"Wade's\", \"Wade's\", \"Wade's\", \"Wade's\", \"Karim's\", \"Sall's\", \"Sall's\", \"Party's\", \"Sall's\", \"Sall's\", \"Fatick's\", \"Coalition's\", \"Wade's\", \"N'Dour\", \"Sall's\", \"latter's\", \"Wade's\", \"predecessor's\", \"Senegal's\", \"Senegal's\", \"Sall's\", \"Sall's\", \"Sall's\"]\n"
     ]
    }
   ],
   "source": [
    "# check all contractions\n",
    "cont = re.findall(\"([a-zA-Z]+\\'[a-zA-Z]+)\", text)\n",
    "print(cont)"
   ]
  },
  {
   "cell_type": "markdown",
   "metadata": {},
   "source": [
    "### Preprocess data"
   ]
  },
  {
   "cell_type": "code",
   "execution_count": 4,
   "metadata": {},
   "outputs": [],
   "source": [
    "import spacy\n",
    "sp = spacy.load('en_core_web_sm')\n",
    "\n",
    "def lemmatizer(sentence):\n",
    "    spacy_sentence = sp(sentence)\n",
    "    tokens = []\n",
    "    for word in spacy_sentence:\n",
    "        tokens.append(word.lemma_)\n",
    "    return tokens"
   ]
  },
  {
   "cell_type": "code",
   "execution_count": 5,
   "metadata": {},
   "outputs": [
    {
     "data": {
      "text/plain": [
       "'\\nMacky Sall (born 11 December 1961[1]) is a Senegalese politician who has been President of Senegal since April 2012. He was re-elected President in the first round voting in February 2019 Senegalese '"
      ]
     },
     "execution_count": 5,
     "metadata": {},
     "output_type": "execute_result"
    }
   ],
   "source": [
    "# print first 200 characters\n",
    "text[:200]"
   ]
  },
  {
   "cell_type": "code",
   "execution_count": 6,
   "metadata": {},
   "outputs": [],
   "source": [
    "# Preprocessing the data\n",
    "text = re.sub(r'\\[[0-9]*\\]',' ',text) # replace all consecutive figures within square brackets\n",
    "text = re.sub(r'\\s+',' ',text) # remove two or more whitespaces with a single whitespace\n",
    "text = text.lower() # convert all text to loser cases\n",
    "\n",
    "#text = re.sub(r'\\d',' ',text) # replace single digits with space\n",
    "text = re.sub(r'\\s+',' ',text) "
   ]
  },
  {
   "cell_type": "code",
   "execution_count": 7,
   "metadata": {},
   "outputs": [
    {
     "data": {
      "text/plain": [
       "' macky sall (born 11 december 1961 ) is a senegalese politician who has been president of senegal since april 2012. he was re-elected president in the first round voting in february 2019 senegalese pr'"
      ]
     },
     "execution_count": 7,
     "metadata": {},
     "output_type": "execute_result"
    }
   ],
   "source": [
    "# print first 200 characters\n",
    "text[:200]"
   ]
  },
  {
   "cell_type": "code",
   "execution_count": 8,
   "metadata": {},
   "outputs": [
    {
     "name": "stdout",
     "output_type": "stream",
     "text": [
      " macky sall (born 11 december 1961 ) is a senegalese politician who has been president of senegal since april 2012. he was re-elected president in the first round voting in february 2019 senegalese presidential election.\n",
      "macky sall (born 11 december 1961 ) is a senegalese politician who has been president of senegal since april 2012. he was re-elected president in the first round voting in february 2019 senegalese presidential election.\n",
      "\n",
      "under president abdoulaye wade, sall was prime minister of senegal from july 2004 to june 2007 and president of the national assembly from june 2007 to november 2008. he was the mayor of fatick from 2002 to 2008 and held that post again from 2009 to 2012. sall was a long-time member of the senegalese democratic party (pds).\n",
      "under president abdoulaye wade, sall was prime minister of senegal from july 2004 to june 2007 and president of the national assembly from june 2007 to november 2008. he was the mayor of fatick from 2002 to 2008 and held that post again from 2009 to 2012. sall was a long-time member of the senegalese democratic party (pds).\n",
      "\n",
      "after coming into conflict with wade, he was removed from his post as president of the national assembly in november 2008; he consequently founded his own party named apr, and joined the opposition.\n",
      "after coming into conflict with wade, he was removed from his post as president of the national assembly in november 2008; he consequently founded his own party named apr, and joined the opposition.\n",
      "\n"
     ]
    }
   ],
   "source": [
    "# check first few sentences\n",
    "sentences = nltk.sent_tokenize(text)\n",
    "for i, sentence in enumerate(sentences[:3]):\n",
    "    print(sentence)\n",
    "    print(sentence.strip())\n",
    "    print()"
   ]
  },
  {
   "cell_type": "markdown",
   "metadata": {},
   "source": [
    "### train word2vec"
   ]
  },
  {
   "cell_type": "code",
   "execution_count": 9,
   "metadata": {},
   "outputs": [
    {
     "name": "stdout",
     "output_type": "stream",
     "text": [
      "# of words 789\n"
     ]
    }
   ],
   "source": [
    "sentences = [lemmatizer(sentence.strip()) for sentence in sentences]\n",
    "\n",
    "# Training the Word2Vec model\n",
    "model = Word2Vec(sentences, vector_size=100, window=5, min_count=1, workers=4)\n",
    "print (\"# of words\", len(model.wv.key_to_index))"
   ]
  },
  {
   "cell_type": "code",
   "execution_count": 10,
   "metadata": {},
   "outputs": [],
   "source": [
    "vector = model.wv['french']  # get numpy vector of a word\n",
    "#print(vector)"
   ]
  },
  {
   "cell_type": "code",
   "execution_count": 11,
   "metadata": {},
   "outputs": [
    {
     "name": "stdout",
     "output_type": "stream",
     "text": [
      "[('on', 0.38297510147094727), ('for', 0.37589940428733826), ('national', 0.3647320866584778), ('someone', 0.36067286133766174), (',', 0.3467370271682739), ('(', 0.3455165922641754), ('year', 0.3410138189792633), ('the', 0.3278810977935791), ('and', 0.3239421248435974), ('defeat', 0.32362884283065796)]\n"
     ]
    }
   ],
   "source": [
    "sims = model.wv.most_similar('french', topn=10)  # get other similar words\n",
    "print(sims)"
   ]
  },
  {
   "cell_type": "code",
   "execution_count": 12,
   "metadata": {},
   "outputs": [
    {
     "data": {
      "image/png": "[encoded data removed]",
      "text/plain": [
       "<Figure size 2160x288 with 2 Axes>"
      ]
     },
     "metadata": {
      "needs_background": "light"
     },
     "output_type": "display_data"
    }
   ],
   "source": [
    "vector = model.wv['senegalese']  # get numpy vector of a word\n",
    "plt.figure(figsize=(30,4))\n",
    "df = pd.DataFrame({'french': model.wv['french'],\n",
    "                   'senegalese': model.wv['senegalese']\n",
    "                  })\n",
    "sns.heatmap(df.T, fmt=\"g\", cmap='RdGy')\n",
    "plt.show()"
   ]
  },
  {
   "cell_type": "code",
   "execution_count": null,
   "metadata": {},
   "outputs": [],
   "source": []
  }
 ],
 "metadata": {
  "kernelspec": {
   "display_name": "Python 3",
   "language": "python",
   "name": "python3"
  },
  "language_info": {
   "codemirror_mode": {
    "name": "ipython",
    "version": 3
   },
   "file_extension": ".py",
   "mimetype": "text/x-python",
   "name": "python",
   "nbconvert_exporter": "python",
   "pygments_lexer": "ipython3",
   "version": "3.8.5"
  }
 },
 "nbformat": 4,
 "nbformat_minor": 4
}
